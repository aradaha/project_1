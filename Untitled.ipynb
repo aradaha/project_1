{
 "cells": [
  {
   "cell_type": "markdown",
   "metadata": {},
   "source": [
    "# Final Project Information"
   ]
  },
  {
   "cell_type": "raw",
   "metadata": {},
   "source": [
    "Student Name: Reuben Hough\n",
    "Full Time Student\n",
    "Review Date: Feb 22, 2020\n",
    "Instructor: Ahbineet Kulkarni\n",
    "Blog URL: reubenhough.wordpress.com/2020/02/21/data-science-blog-1/"
   ]
  },
  {
   "cell_type": "markdown",
   "metadata": {},
   "source": [
    "# Data"
   ]
  },
  {
   "cell_type": "markdown",
   "metadata": {},
   "source": [
    "### Importing Libraries"
   ]
  },
  {
   "cell_type": "code",
   "execution_count": 1,
   "metadata": {},
   "outputs": [],
   "source": [
    "# These libraries are used to work with and visualize data\n",
    "import sqlite3\n",
    "import pandas as pd\n",
    "import pickle\n",
    "import numpy as np\n",
    "import matplotlib.pyplot\n",
    "import matplotlib.pyplot as plt\n",
    "from glob import glob\n",
    "import os\n",
    "import seaborn as sns\n",
    "%matplotlib inline"
   ]
  },
  {
   "cell_type": "markdown",
   "metadata": {},
   "source": [
    "## Gathering Data"
   ]
  },
  {
   "cell_type": "code",
   "execution_count": 2,
   "metadata": {},
   "outputs": [],
   "source": [
    "# The directory where the files are found is accessed\n",
    "os.chdir('/Users/reube/flatiron/Project01/dsc-mod-1-project-v2-1-onl01-dtsc-ft-012120/zippedData/')"
   ]
  },
  {
   "cell_type": "code",
   "execution_count": 3,
   "metadata": {},
   "outputs": [],
   "source": [
    "# Glob is used to add all relevant files to a list for simplicity\n",
    "datafiles = glob(\"*.csv.gz\")"
   ]
  },
  {
   "cell_type": "code",
   "execution_count": 5,
   "metadata": {},
   "outputs": [],
   "source": [
    "# An empty dictionary called dictum is created.\n",
    "# Later this dictionary will include file names as keys\n",
    "# and file data as values\n",
    "dictum = {}"
   ]
  },
  {
   "cell_type": "code",
   "execution_count": 6,
   "metadata": {},
   "outputs": [],
   "source": [
    "# Pandas is used to read all .csv files\n",
    "# and add them to the dictionary \"dictum\"\n",
    "for x in datafiles:\n",
    "    dictum[x] = pd.read_csv(x)"
   ]
  },
  {
   "cell_type": "markdown",
   "metadata": {},
   "source": [
    "### Filename Cleaning"
   ]
  },
  {
   "cell_type": "code",
   "execution_count": 7,
   "metadata": {},
   "outputs": [],
   "source": [
    "# Creating a new dictionary \"files\" with better filenames\n",
    "files = {}\n",
    "for x in dictum:\n",
    "    # Removing all \".csv.gz\", \"_\", and \".\"\n",
    "    cleaned = os.path.basename(x).replace('.csv.gz', '').replace('.', '').replace('_', '')\n",
    "    # Re-reading files after name change\n",
    "    df = pd.read_csv(x)\n",
    "    # Adding to \"files\" dictionary\n",
    "    files[cleaned] = df"
   ]
  },
  {
   "cell_type": "code",
   "execution_count": 8,
   "metadata": {},
   "outputs": [],
   "source": [
    "# Returning to the main project directory\n",
    "os.chdir('/Users/reube/flatiron/Projects/project_1')"
   ]
  },
  {
   "cell_type": "code",
   "execution_count": 9,
   "metadata": {},
   "outputs": [],
   "source": [
    "# Creating a SQL table for each file\n",
    "# using a function that will iterate through pandas dataframes\n",
    "# and create SQL tables for each\n",
    "def CreateSqlTable(df, name, conn):\n",
    "    # df.to_sql converts pandas datafrae to SQL table\n",
    "    # if_exists = 'replace' will overwrite any identical table\n",
    "    df.to_sql(name, conn, if_exists = 'replace')\n",
    "    # Prints out that a table was created\n",
    "    print(f\"Created table {name}\")"
   ]
  },
  {
   "cell_type": "code",
   "execution_count": 10,
   "metadata": {},
   "outputs": [
    {
     "name": "stdout",
     "output_type": "stream",
     "text": [
      "Created table bommoviegross\n",
      "Created table imdbnamebasics\n",
      "Created table imdbtitleakas\n",
      "Created table imdbtitlebasics\n",
      "Created table imdbtitlecrew\n",
      "Created table imdbtitleprincipals\n",
      "Created table imdbtitleratings\n"
     ]
    },
    {
     "name": "stderr",
     "output_type": "stream",
     "text": [
      "C:\\Users\\reube\\Anaconda3\\envs\\learn-env\\lib\\site-packages\\pandas\\core\\generic.py:2712: UserWarning: The spaces in these column names will not be changed. In pandas versions < 0.14, spaces were converted to underscores.\n",
      "  method=method,\n"
     ]
    },
    {
     "name": "stdout",
     "output_type": "stream",
     "text": [
      "Created table tmdbmovies\n",
      "Created table tnmoviebudgets\n"
     ]
    }
   ],
   "source": [
    "# Creates a file that will contain all SQL tables\n",
    "conn = sqlite3.connect(\"moviesdatabase.sqlite\")\n",
    "# Using the function to iterate as described\n",
    "for name, table in files.items():\n",
    "    CreateSqlTable(table, name, conn)"
   ]
  },
  {
   "cell_type": "code",
   "execution_count": 11,
   "metadata": {},
   "outputs": [
    {
     "name": "stdout",
     "output_type": "stream",
     "text": [
      "[('bommoviegross',), ('imdbnamebasics',), ('imdbtitleakas',), ('imdbtitlebasics',), ('imdbtitlecrew',), ('imdbtitleprincipals',), ('imdbtitleratings',), ('tmdbmovies',), ('tnmoviebudgets',)]\n"
     ]
    },
    {
     "data": {
      "text/plain": [
       "9"
      ]
     },
     "execution_count": 11,
     "metadata": {},
     "output_type": "execute_result"
    }
   ],
   "source": [
    "# Showing all relevant tables were created, there should be nine\n",
    "print(conn.execute(\"select name from sqlite_master where type='table';\").fetchall())\n",
    "len(conn.execute(\"select name from sqlite_master where type='table';\").fetchall())"
   ]
  },
  {
   "cell_type": "markdown",
   "metadata": {},
   "source": [
    "## Cleaning Data"
   ]
  },
  {
   "cell_type": "markdown",
   "metadata": {},
   "source": [
    "### Joining SQL Tables"
   ]
  },
  {
   "cell_type": "code",
   "execution_count": 12,
   "metadata": {},
   "outputs": [],
   "source": [
    "# Creating connection and cursor object to work with SQL\n",
    "conn = sqlite3.Connection('moviesdatabase.sqlite')\n",
    "cur = conn.cursor()"
   ]
  },
  {
   "cell_type": "code",
   "execution_count": 13,
   "metadata": {},
   "outputs": [
    {
     "name": "stdout",
     "output_type": "stream",
     "text": [
      "bommoviegross\n",
      "<class 'pandas.core.frame.DataFrame'>\n",
      "RangeIndex: 3387 entries, 0 to 3386\n",
      "Data columns (total 5 columns):\n",
      "title             3387 non-null object\n",
      "studio            3382 non-null object\n",
      "domestic_gross    3359 non-null float64\n",
      "foreign_gross     2037 non-null object\n",
      "year              3387 non-null int64\n",
      "dtypes: float64(1), int64(1), object(3)\n",
      "memory usage: 132.4+ KB\n",
      "None\n",
      "===============Next Table===============\n",
      "imdbnamebasics\n",
      "<class 'pandas.core.frame.DataFrame'>\n",
      "RangeIndex: 606648 entries, 0 to 606647\n",
      "Data columns (total 6 columns):\n",
      "nconst                606648 non-null object\n",
      "primary_name          606648 non-null object\n",
      "birth_year            82736 non-null float64\n",
      "death_year            6783 non-null float64\n",
      "primary_profession    555308 non-null object\n",
      "known_for_titles      576444 non-null object\n",
      "dtypes: float64(2), object(4)\n",
      "memory usage: 27.8+ MB\n",
      "None\n",
      "===============Next Table===============\n",
      "imdbtitleakas\n",
      "<class 'pandas.core.frame.DataFrame'>\n",
      "RangeIndex: 331703 entries, 0 to 331702\n",
      "Data columns (total 8 columns):\n",
      "title_id             331703 non-null object\n",
      "ordering             331703 non-null int64\n",
      "title                331703 non-null object\n",
      "region               278410 non-null object\n",
      "language             41715 non-null object\n",
      "types                168447 non-null object\n",
      "attributes           14925 non-null object\n",
      "is_original_title    331678 non-null float64\n",
      "dtypes: float64(1), int64(1), object(6)\n",
      "memory usage: 20.2+ MB\n",
      "None\n",
      "===============Next Table===============\n",
      "imdbtitlebasics\n",
      "<class 'pandas.core.frame.DataFrame'>\n",
      "RangeIndex: 146144 entries, 0 to 146143\n",
      "Data columns (total 6 columns):\n",
      "tconst             146144 non-null object\n",
      "primary_title      146144 non-null object\n",
      "original_title     146123 non-null object\n",
      "start_year         146144 non-null int64\n",
      "runtime_minutes    114405 non-null float64\n",
      "genres             140736 non-null object\n",
      "dtypes: float64(1), int64(1), object(4)\n",
      "memory usage: 6.7+ MB\n",
      "None\n",
      "===============Next Table===============\n",
      "imdbtitlecrew\n",
      "<class 'pandas.core.frame.DataFrame'>\n",
      "RangeIndex: 146144 entries, 0 to 146143\n",
      "Data columns (total 3 columns):\n",
      "tconst       146144 non-null object\n",
      "directors    140417 non-null object\n",
      "writers      110261 non-null object\n",
      "dtypes: object(3)\n",
      "memory usage: 3.3+ MB\n",
      "None\n",
      "===============Next Table===============\n",
      "imdbtitleprincipals\n",
      "<class 'pandas.core.frame.DataFrame'>\n",
      "RangeIndex: 1028186 entries, 0 to 1028185\n",
      "Data columns (total 6 columns):\n",
      "tconst        1028186 non-null object\n",
      "ordering      1028186 non-null int64\n",
      "nconst        1028186 non-null object\n",
      "category      1028186 non-null object\n",
      "job           177684 non-null object\n",
      "characters    393360 non-null object\n",
      "dtypes: int64(1), object(5)\n",
      "memory usage: 47.1+ MB\n",
      "None\n",
      "===============Next Table===============\n",
      "imdbtitleratings\n",
      "<class 'pandas.core.frame.DataFrame'>\n",
      "RangeIndex: 73856 entries, 0 to 73855\n",
      "Data columns (total 3 columns):\n",
      "tconst           73856 non-null object\n",
      "averagerating    73856 non-null float64\n",
      "numvotes         73856 non-null int64\n",
      "dtypes: float64(1), int64(1), object(1)\n",
      "memory usage: 1.7+ MB\n",
      "None\n",
      "===============Next Table===============\n",
      "tmdbmovies\n",
      "<class 'pandas.core.frame.DataFrame'>\n",
      "RangeIndex: 26517 entries, 0 to 26516\n",
      "Data columns (total 10 columns):\n",
      "Unnamed: 0           26517 non-null int64\n",
      "genre_ids            26517 non-null object\n",
      "id                   26517 non-null int64\n",
      "original_language    26517 non-null object\n",
      "original_title       26517 non-null object\n",
      "popularity           26517 non-null float64\n",
      "release_date         26517 non-null object\n",
      "title                26517 non-null object\n",
      "vote_average         26517 non-null float64\n",
      "vote_count           26517 non-null int64\n",
      "dtypes: float64(2), int64(3), object(5)\n",
      "memory usage: 2.0+ MB\n",
      "None\n",
      "===============Next Table===============\n",
      "tnmoviebudgets\n",
      "<class 'pandas.core.frame.DataFrame'>\n",
      "RangeIndex: 5782 entries, 0 to 5781\n",
      "Data columns (total 6 columns):\n",
      "id                   5782 non-null int64\n",
      "release_date         5782 non-null object\n",
      "movie                5782 non-null object\n",
      "production_budget    5782 non-null object\n",
      "domestic_gross       5782 non-null object\n",
      "worldwide_gross      5782 non-null object\n",
      "dtypes: int64(1), object(5)\n",
      "memory usage: 271.2+ KB\n",
      "None\n",
      "===============Next Table===============\n"
     ]
    }
   ],
   "source": [
    "# Printing out information on each table\n",
    "# to see how to properly join them\n",
    "for x in files.items():\n",
    "        # Prints each table name stored as keys\"x[0]\"\n",
    "        # and information about dictionary values \"x[1].info\"\n",
    "        print(x[0])\n",
    "        print(x[1].info())\n",
    "        print(\"===============Next Table===============\")"
   ]
  },
  {
   "cell_type": "code",
   "execution_count": 14,
   "metadata": {},
   "outputs": [],
   "source": [
    "cur.execute('''SELECT tn.movie, tn.release_date, tn.production_budget, tn.domestic_gross,\n",
    "                tn.worldwide_gross, title.genres FROM tnmoviebudgets AS tn\n",
    "                JOIN imdbtitlebasics AS title ON tn.movie = title.primary_title\n",
    "                GROUP BY tn.movie''')\n",
    "df = pd.DataFrame(cur.fetchall())\n",
    "df.columns = [i[0] for i in cur.description]"
   ]
  },
  {
   "cell_type": "code",
   "execution_count": 16,
   "metadata": {},
   "outputs": [
    {
     "data": {
      "text/html": [
       "<div>\n",
       "<style scoped>\n",
       "    .dataframe tbody tr th:only-of-type {\n",
       "        vertical-align: middle;\n",
       "    }\n",
       "\n",
       "    .dataframe tbody tr th {\n",
       "        vertical-align: top;\n",
       "    }\n",
       "\n",
       "    .dataframe thead th {\n",
       "        text-align: right;\n",
       "    }\n",
       "</style>\n",
       "<table border=\"1\" class=\"dataframe\">\n",
       "  <thead>\n",
       "    <tr style=\"text-align: right;\">\n",
       "      <th></th>\n",
       "      <th>movie</th>\n",
       "      <th>release_date</th>\n",
       "      <th>production_budget</th>\n",
       "      <th>domestic_gross</th>\n",
       "      <th>worldwide_gross</th>\n",
       "      <th>genres</th>\n",
       "    </tr>\n",
       "  </thead>\n",
       "  <tbody>\n",
       "    <tr>\n",
       "      <td>0</td>\n",
       "      <td>#Horror</td>\n",
       "      <td>Nov 20, 2015</td>\n",
       "      <td>$1,500,000</td>\n",
       "      <td>$0</td>\n",
       "      <td>$0</td>\n",
       "      <td>Crime,Drama,Horror</td>\n",
       "    </tr>\n",
       "    <tr>\n",
       "      <td>1</td>\n",
       "      <td>10 Cloverfield Lane</td>\n",
       "      <td>Mar 11, 2016</td>\n",
       "      <td>$5,000,000</td>\n",
       "      <td>$72,082,999</td>\n",
       "      <td>$108,286,422</td>\n",
       "      <td>Drama,Horror,Mystery</td>\n",
       "    </tr>\n",
       "    <tr>\n",
       "      <td>2</td>\n",
       "      <td>10 Days in a Madhouse</td>\n",
       "      <td>Nov 11, 2015</td>\n",
       "      <td>$12,000,000</td>\n",
       "      <td>$14,616</td>\n",
       "      <td>$14,616</td>\n",
       "      <td>Drama</td>\n",
       "    </tr>\n",
       "    <tr>\n",
       "      <td>3</td>\n",
       "      <td>12 Rounds</td>\n",
       "      <td>Mar 27, 2009</td>\n",
       "      <td>$20,000,000</td>\n",
       "      <td>$12,234,694</td>\n",
       "      <td>$17,306,648</td>\n",
       "      <td>Action,Drama,Romance</td>\n",
       "    </tr>\n",
       "    <tr>\n",
       "      <td>4</td>\n",
       "      <td>12 Strong</td>\n",
       "      <td>Jan 19, 2018</td>\n",
       "      <td>$35,000,000</td>\n",
       "      <td>$45,819,713</td>\n",
       "      <td>$71,118,378</td>\n",
       "      <td>Action,Drama,History</td>\n",
       "    </tr>\n",
       "  </tbody>\n",
       "</table>\n",
       "</div>"
      ],
      "text/plain": [
       "                   movie  release_date production_budget domestic_gross  \\\n",
       "0                #Horror  Nov 20, 2015        $1,500,000             $0   \n",
       "1    10 Cloverfield Lane  Mar 11, 2016        $5,000,000    $72,082,999   \n",
       "2  10 Days in a Madhouse  Nov 11, 2015       $12,000,000        $14,616   \n",
       "3              12 Rounds  Mar 27, 2009       $20,000,000    $12,234,694   \n",
       "4              12 Strong  Jan 19, 2018       $35,000,000    $45,819,713   \n",
       "\n",
       "  worldwide_gross                genres  \n",
       "0              $0    Crime,Drama,Horror  \n",
       "1    $108,286,422  Drama,Horror,Mystery  \n",
       "2         $14,616                 Drama  \n",
       "3     $17,306,648  Action,Drama,Romance  \n",
       "4     $71,118,378  Action,Drama,History  "
      ]
     },
     "execution_count": 16,
     "metadata": {},
     "output_type": "execute_result"
    }
   ],
   "source": [
    "# checking for null values\n",
    "df.head()"
   ]
  },
  {
   "cell_type": "code",
   "execution_count": 17,
   "metadata": {},
   "outputs": [],
   "source": [
    "# 61 null values in one field is not significant, so they will be dropped\n",
    "df = df.dropna()"
   ]
  },
  {
   "cell_type": "code",
   "execution_count": 18,
   "metadata": {},
   "outputs": [],
   "source": [
    "# Getting the primary genre from the list of genres\n",
    "df['Main_Genre'] = df['genres'].apply(lambda x: x.replace(',', ' '))\n",
    "df['Main_Genre'] = df['Main_Genre'].apply(lambda x: x.split()[0])"
   ]
  },
  {
   "cell_type": "code",
   "execution_count": 19,
   "metadata": {},
   "outputs": [],
   "source": [
    "# Editing the budget and gross so they are easier to work with\n",
    "df['production_budget'] = df['production_budget'].apply(lambda x: str(x)).apply(lambda x: x.replace(',', '').replace('$', ''))\n",
    "df['production_budget'] = df['production_budget'].apply(lambda x: int(x))\n",
    "df['worldwide_gross'] = df['worldwide_gross'].apply(lambda x: str(x)).apply(lambda x: x.replace(',', '').replace('$', ''))\n",
    "df['worldwide_gross'] = df['worldwide_gross'].apply(lambda x: int(x))\n",
    "df['domestic_gross'] = df['domestic_gross'].apply(lambda x: str(x)).apply(lambda x: x.replace(',', '').replace('$', ''))\n",
    "df['domestic_gross'] = df['domestic_gross'].apply(lambda x: int(x))"
   ]
  },
  {
   "cell_type": "markdown",
   "metadata": {},
   "source": [
    "# Questions"
   ]
  },
  {
   "cell_type": "markdown",
   "metadata": {},
   "source": [
    "## Question 1: Which is the most profitable genre overall?"
   ]
  },
  {
   "cell_type": "code",
   "execution_count": 20,
   "metadata": {},
   "outputs": [
    {
     "data": {
      "text/plain": [
       "Text(0, 0.5, 'Genre')"
      ]
     },
     "execution_count": 20,
     "metadata": {},
     "output_type": "execute_result"
    },
    {
     "data": {
      "image/png": "[encoded data removed]",
      "text/plain": [
       "<Figure size 1080x576 with 1 Axes>"
      ]
     },
     "metadata": {
      "needs_background": "light"
     },
     "output_type": "display_data"
    }
   ],
   "source": [
    "# Finding profit by subtracting budget from wordwide gross\n",
    "df['Profit'] = df['worldwide_gross'].subtract(df['production_budget'], axis = 0)\n",
    "# Plotting profit by genre\n",
    "ax = df.groupby(['Main_Genre'])['Profit'].sum().sort_values().plot(kind='barh', figsize=(15,8),\n",
    "                                                              title = \"Most Proftable Genres Overall\")\n",
    "ax.set_xlabel(\"Profit in Tens of Billions\")\n",
    "ax.set_ylabel(\"Genre\")"
   ]
  },
  {
   "cell_type": "code",
   "execution_count": 22,
   "metadata": {},
   "outputs": [
    {
     "data": {
      "text/plain": [
       "Text(0, 0.5, 'Genre')"
      ]
     },
     "execution_count": 22,
     "metadata": {},
     "output_type": "execute_result"
    },
    {
     "data": {
      "image/png": "[encoded data removed]",
      "text/plain": [
       "<Figure size 1080x576 with 1 Axes>"
      ]
     },
     "metadata": {
      "needs_background": "light"
     },
     "output_type": "display_data"
    }
   ],
   "source": [
    "# Action is the most profitable genre overall, however there are more factors to consider.\n",
    "# This will make a graph of the average profit per movie\n",
    "bx = df.groupby(['Main_Genre'])['Profit'].mean().sort_values().plot(kind='barh', figsize=(15,8),\n",
    "                                                              title = \"Most Proftable Genres by Average Profit\")\n",
    "bx.set_xlabel(\"Profit in Hundreds of Millions\")\n",
    "bx.set_ylabel(\"Genre\")"
   ]
  },
  {
   "cell_type": "markdown",
   "metadata": {},
   "source": [
    "## What is the Best Month to Release Movies"
   ]
  },
  {
   "cell_type": "code",
   "execution_count": 23,
   "metadata": {},
   "outputs": [],
   "source": [
    "# This is a funtion that changes the month into a number\n",
    "def month(x, y):\n",
    "    z = []\n",
    "    for x in y:\n",
    "        if 'Jan' in x:\n",
    "            z.append(x.replace('Jan', '01'))\n",
    "        elif 'Feb' in x:\n",
    "            z.append(x.replace('Feb', '02'))\n",
    "        elif 'Mar' in x:\n",
    "            z.append(x.replace('Mar', '03'))\n",
    "        elif 'Apr' in x:\n",
    "            z.append(x.replace('Apr', '04'))\n",
    "        elif 'May' in x:\n",
    "            z.append(x.replace('May', '05'))\n",
    "        elif 'Jun' in x:\n",
    "            z.append(x.replace('Jun', '06'))\n",
    "        elif 'Jul' in x:\n",
    "            z.append(x.replace('Jul', '07'))\n",
    "        elif 'Aug' in x:\n",
    "            z.append(x.replace('Aug', '08'))\n",
    "        elif 'Sep' in x:\n",
    "            z.append(x.replace('Sep', '09'))\n",
    "        elif 'Oct' in x:\n",
    "            z.append(x.replace('Oct', '10'))\n",
    "        elif 'Nov' in x:\n",
    "            z.append(x.replace('Nov', '11'))\n",
    "        elif 'Dec' in x:\n",
    "            z.append(x.replace('Dec', '12'))\n",
    "    return z"
   ]
  },
  {
   "cell_type": "code",
   "execution_count": 24,
   "metadata": {},
   "outputs": [],
   "source": [
    "# This function makes the dates the same length for simplicity\n",
    "def newday(x, y):\n",
    "    z = []\n",
    "    for x in y:\n",
    "        if ' 1,' in x:\n",
    "            z.append(x.replace(' 1,', ' 01,'))\n",
    "            continue\n",
    "        if ' 2,' in x:\n",
    "            z.append(x.replace(' 2,', ' 02,'))\n",
    "            continue\n",
    "        if ' 3,' in x:\n",
    "            z.append(x.replace(' 3,', ' 03,'))\n",
    "            continue\n",
    "        if ' 4,' in x:\n",
    "            z.append(x.replace(' 4,', ' 04,'))\n",
    "            continue\n",
    "        if ' 5,' in x:\n",
    "            z.append(x.replace(' 5,', ' 05,'))\n",
    "            continue\n",
    "        if ' 6,' in x:\n",
    "            z.append(x.replace(' 6,', ' 06,'))\n",
    "            continue\n",
    "        if ' 7,' in x:\n",
    "            z.append(x.replace(' 7,', ' 07,'))\n",
    "            continue\n",
    "        if ' 8,' in x:\n",
    "            z.append(x.replace(' 8,', ' 08,'))\n",
    "            continue\n",
    "        if ' 9,' in x:\n",
    "            z.append(x.replace(' 9,', ' 09,'))\n",
    "            continue\n",
    "        else:\n",
    "            z.append(x)\n",
    "            continue\n",
    "    return z"
   ]
  },
  {
   "cell_type": "code",
   "execution_count": 25,
   "metadata": {},
   "outputs": [],
   "source": [
    "# Turning the date into a usable format\n",
    "df['Date'] = month(x, df['release_date'])\n",
    "df['Date'] = newday(x, df['Date'])\n",
    "df['Year'] = df['Date'].map(lambda x: '{}'.format(x[-4:]))\n",
    "df['Month'] = df['Date'].map(lambda x: '{}'.format(x[:2]))"
   ]
  },
  {
   "cell_type": "code",
   "execution_count": 26,
   "metadata": {},
   "outputs": [
    {
     "data": {
      "text/plain": [
       "[Text(0, 0.5, 'Profit in Billions')]"
      ]
     },
     "execution_count": 26,
     "metadata": {},
     "output_type": "execute_result"
    },
    {
     "data": {
      "image/png": "[encoded data removed]",
      "text/plain": [
       "<Figure size 432x288 with 1 Axes>"
      ]
     },
     "metadata": {
      "needs_background": "light"
     },
     "output_type": "display_data"
    }
   ],
   "source": [
    "# Using Seaborn to plot a box graph of profits by month\n",
    "sns.boxplot(x=\"Month\", y=\"Profit\", data=df).set(ylabel='Profit in Billions')"
   ]
  },
  {
   "cell_type": "code",
   "execution_count": 27,
   "metadata": {},
   "outputs": [],
   "source": [
    "# This shows a boxplot, with the colored boxes containing 50 percent of the values,\n",
    "# and the T lines adding 150% of the section of the box range in either direction.\n",
    "# It may be easier to read if we remove outliers with profits over 1.2 billion dollars\n",
    "data = df[df.Profit < 1200000000]"
   ]
  },
  {
   "cell_type": "code",
   "execution_count": 29,
   "metadata": {},
   "outputs": [
    {
     "data": {
      "text/plain": [
       "[Text(0, 0.5, 'Profit in Billions')]"
      ]
     },
     "execution_count": 29,
     "metadata": {},
     "output_type": "execute_result"
    },
    {
     "data": {
      "image/png": "[encoded data removed]",
      "text/plain": [
       "<Figure size 432x288 with 1 Axes>"
      ]
     },
     "metadata": {
      "needs_background": "light"
     },
     "output_type": "display_data"
    }
   ],
   "source": [
    "sns.boxplot(x=\"Month\", y=\"Profit\", data=data).set(ylabel='Profit in Billions')"
   ]
  },
  {
   "cell_type": "markdown",
   "metadata": {},
   "source": [
    "## Do Movie Prefernces Change by Decade?"
   ]
  },
  {
   "cell_type": "code",
   "execution_count": 30,
   "metadata": {},
   "outputs": [],
   "source": [
    "# This function will sort movies by decade\n",
    "def decade(x, y):\n",
    "    z = []\n",
    "    for x in y:\n",
    "        if x < 1950:\n",
    "            z.append(int(1940))\n",
    "            continue\n",
    "        if x > 1949 and x < 1960:\n",
    "            z.append(int(1950))\n",
    "            continue\n",
    "        if x > 1959 and x < 1970:\n",
    "            z.append(int(1960))\n",
    "            continue\n",
    "        if x > 1969 and x < 1980:\n",
    "            z.append(int(1970))\n",
    "            continue\n",
    "        if x > 1979 and x < 1990:\n",
    "            z.append(int(1980))\n",
    "            continue\n",
    "        if x > 1989 and x < 2000:\n",
    "            z.append(int(1990))\n",
    "            continue\n",
    "        if x > 1999 and x < 2010:\n",
    "            z.append(int(2000))\n",
    "            continue\n",
    "        else:\n",
    "            z.append(int(2010))\n",
    "            continue\n",
    "    return z"
   ]
  },
  {
   "cell_type": "code",
   "execution_count": 31,
   "metadata": {},
   "outputs": [],
   "source": [
    "# Making year values integers to work with function, then running\n",
    "df['Year'] = df['Year'].map(lambda x: int(x))\n",
    "df['Decade'] = decade(x, df['Year'])"
   ]
  },
  {
   "cell_type": "code",
   "execution_count": null,
   "metadata": {},
   "outputs": [],
   "source": [
    "# Plotting number of movies by decade and genre\n",
    "g = sns.swarmplot(x=\"Main_Genre\", y=\"Decade\", data=df)\n",
    "# Rotating labels so they are legible\n",
    "g.set_xticklabels(g.get_xticklabels(), rotation=60)"
   ]
  },
  {
   "cell_type": "code",
   "execution_count": null,
   "metadata": {},
   "outputs": [],
   "source": []
  }
 ],
 "metadata": {
  "kernelspec": {
   "display_name": "Python [conda env:learn-env] *",
   "language": "python",
   "name": "conda-env-learn-env-py"
  },
  "language_info": {
   "codemirror_mode": {
    "name": "ipython",
    "version": 3
   },
   "file_extension": ".py",
   "mimetype": "text/x-python",
   "name": "python",
   "nbconvert_exporter": "python",
   "pygments_lexer": "ipython3",
   "version": "3.6.9"
  },
  "toc": {
   "base_numbering": 1,
   "nav_menu": {},
   "number_sections": true,
   "sideBar": true,
   "skip_h1_title": false,
   "title_cell": "Table of Contents",
   "title_sidebar": "Contents",
   "toc_cell": false,
   "toc_position": {},
   "toc_section_display": true,
   "toc_window_display": false
  }
 },
 "nbformat": 4,
 "nbformat_minor": 2
}
